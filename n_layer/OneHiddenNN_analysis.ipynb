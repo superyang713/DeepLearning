{
 "cells": [
  {
   "cell_type": "code",
   "execution_count": 1,
   "metadata": {},
   "outputs": [],
   "source": [
    "import numpy as np\n",
    "import matplotlib.pyplot as plt\n",
    "\n",
    "from lib.utils import load_dataset, plot_image\n",
    "from lib.network import NeuralNetworkClassifier\n",
    "\n",
    "%matplotlib inline\n",
    "plt.rcParams['figure.figsize'] = (5.0, 4.0) # set default size of plots\n",
    "plt.rcParams['image.interpolation'] = 'nearest'\n",
    "plt.rcParams['image.cmap'] = 'gray'\n",
    "\n",
    "np.random.seed(1)"
   ]
  },
  {
   "cell_type": "code",
   "execution_count": 2,
   "metadata": {},
   "outputs": [],
   "source": [
    "# Load data\n",
    "X_train_orig, y_train, X_test_orig, y_test, classes = load_dataset()"
   ]
  },
  {
   "cell_type": "code",
   "execution_count": 3,
   "metadata": {},
   "outputs": [
    {
     "data": {
      "image/png": "[encoded data removed]",
      "text/plain": [
       "<Figure size 432x288 with 1 Axes>"
      ]
     },
     "metadata": {
      "needs_background": "light"
     },
     "output_type": "display_data"
    }
   ],
   "source": [
    "plot_image(X_train_orig, y_train, 2)"
   ]
  },
  {
   "cell_type": "code",
   "execution_count": 4,
   "metadata": {},
   "outputs": [],
   "source": [
    "n_samples_train = X_train_orig.shape[0]\n",
    "n_samples_test = X_test_orig.shape[0]\n",
    "X_train_flattern = X_train_orig.reshape(n_samples_train, -1)\n",
    "X_test_flattern = X_test_orig.reshape(n_samples_test, -1)"
   ]
  },
  {
   "cell_type": "code",
   "execution_count": 5,
   "metadata": {},
   "outputs": [
    {
     "data": {
      "text/plain": [
       "(209, 12288)"
      ]
     },
     "execution_count": 5,
     "metadata": {},
     "output_type": "execute_result"
    }
   ],
   "source": [
    "X_train = X_train_flattern / 255.\n",
    "X_test = X_test_flattern / 255.\n",
    "X_train.shape"
   ]
  },
  {
   "cell_type": "code",
   "execution_count": 6,
   "metadata": {},
   "outputs": [
    {
     "data": {
      "text/plain": [
       "(209,)"
      ]
     },
     "execution_count": 6,
     "metadata": {},
     "output_type": "execute_result"
    }
   ],
   "source": [
    "y_train.shape"
   ]
  },
  {
   "cell_type": "code",
   "execution_count": 7,
   "metadata": {},
   "outputs": [],
   "source": [
    "layer_dims = [12288, 20, 1]"
   ]
  },
  {
   "cell_type": "code",
   "execution_count": 8,
   "metadata": {},
   "outputs": [],
   "source": [
    "nn = NeuralNetworkClassifier(layer_dims=layer_dims, max_iter=2500, learning_rate=0.075)"
   ]
  },
  {
   "cell_type": "code",
   "execution_count": 9,
   "metadata": {},
   "outputs": [
    {
     "name": "stderr",
     "output_type": "stream",
     "text": [
      "/Users/yang/Code/DeepLearning/n_layer/lib/network.py:169: RuntimeWarning: divide by zero encountered in log\n",
      "  np.dot(y, np.log(AL.T)) + np.dot(1 - y, np.log(1 - AL.T))\n",
      "/Users/yang/Code/DeepLearning/n_layer/lib/network.py:196: RuntimeWarning: invalid value encountered in true_divide\n",
      "  dAL = - (np.divide(y, AL) - np.divide(1 - y, 1 - AL))\n",
      "/Users/yang/Code/DeepLearning/n_layer/lib/propagation.py:149: RuntimeWarning: invalid value encountered in maximum\n",
      "  A = np.maximum(0, Z)\n"
     ]
    }
   ],
   "source": [
    "nn.fit(X_train, y_train)"
   ]
  },
  {
   "cell_type": "code",
   "execution_count": 10,
   "metadata": {},
   "outputs": [
    {
     "data": {
      "image/png": "[encoded data removed]",
      "text/plain": [
       "<Figure size 432x288 with 1 Axes>"
      ]
     },
     "metadata": {
      "needs_background": "light"
     },
     "output_type": "display_data"
    }
   ],
   "source": [
    "plt.plot(nn.costs)\n",
    "plt.ylabel('cost')\n",
    "plt.xlabel('iterations (per tens)')\n",
    "plt.show()"
   ]
  },
  {
   "cell_type": "code",
   "execution_count": 11,
   "metadata": {},
   "outputs": [
    {
     "name": "stdout",
     "output_type": "stream",
     "text": [
      "0.6932039417691713\n",
      "0.6199331704645253\n",
      "0.6333976070304057\n",
      "0.6784556354643547\n",
      "0.6703501000000218\n",
      "0.6668740505396495\n",
      "0.6220434438964876\n",
      "0.5680384540073198\n",
      "0.5250396259071785\n",
      "0.49443321384428596\n",
      "0.46501713922634297\n",
      "0.4379992436175216\n",
      "0.43436575997175103\n",
      "0.4308733023710842\n",
      "0.4271603542109213\n",
      "0.4262845129932073\n",
      "0.42171968784303515\n",
      "0.4137485954214949\n",
      "0.4030728240741675\n",
      "0.3914893595437837\n",
      "0.38065949118263154\n",
      "0.3728016639568389\n",
      "nan\n",
      "nan\n",
      "nan\n"
     ]
    }
   ],
   "source": [
    "for i, cost in enumerate(nn.costs):\n",
    "    if i % 100 == 0:\n",
    "        print(cost)"
   ]
  },
  {
   "cell_type": "code",
   "execution_count": 12,
   "metadata": {},
   "outputs": [
    {
     "data": {
      "text/plain": [
       "0.0"
      ]
     },
     "execution_count": 12,
     "metadata": {},
     "output_type": "execute_result"
    }
   ],
   "source": [
    "accuracy = nn.get_accuracy(X_test, y_test)\n",
    "accuracy"
   ]
  }
 ],
 "metadata": {
  "kernelspec": {
   "display_name": "Python 3",
   "language": "python",
   "name": "python3"
  },
  "language_info": {
   "codemirror_mode": {
    "name": "ipython",
    "version": 3
   },
   "file_extension": ".py",
   "mimetype": "text/x-python",
   "name": "python",
   "nbconvert_exporter": "python",
   "pygments_lexer": "ipython3",
   "version": "3.6.5"
  }
 },
 "nbformat": 4,
 "nbformat_minor": 2
}
